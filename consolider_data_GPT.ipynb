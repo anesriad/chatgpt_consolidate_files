{
  "nbformat": 4,
  "nbformat_minor": 0,
  "metadata": {
    "colab": {
      "provenance": []
    },
    "kernelspec": {
      "name": "python3",
      "display_name": "Python 3"
    },
    "language_info": {
      "name": "python"
    }
  },
  "cells": [
    {
      "cell_type": "code",
      "source": [
        "pip install PyPDF2"
      ],
      "metadata": {
        "colab": {
          "base_uri": "https://localhost:8080/"
        },
        "id": "UOw6txElQ5Jo",
        "outputId": "e02980e3-3294-4302-99a6-0db8129c91e2"
      },
      "execution_count": 2,
      "outputs": [
        {
          "output_type": "stream",
          "name": "stdout",
          "text": [
            "Collecting PyPDF2\n",
            "  Downloading pypdf2-3.0.1-py3-none-any.whl (232 kB)\n",
            "\u001b[?25l     \u001b[90m━━━━━━━━━━━━━━━━━━━━━━━━━━━━━━━━━━━━━━━━\u001b[0m \u001b[32m0.0/232.6 kB\u001b[0m \u001b[31m?\u001b[0m eta \u001b[36m-:--:--\u001b[0m\r\u001b[2K     \u001b[91m━━━━━━━━━━━━━━━━━━━━━━━━\u001b[0m\u001b[91m╸\u001b[0m\u001b[90m━━━━━━━━━━━━━━━\u001b[0m \u001b[32m143.4/232.6 kB\u001b[0m \u001b[31m4.2 MB/s\u001b[0m eta \u001b[36m0:00:01\u001b[0m\r\u001b[2K     \u001b[90m━━━━━━━━━━━━━━━━━━━━━━━━━━━━━━━━━━━━━━━━\u001b[0m \u001b[32m232.6/232.6 kB\u001b[0m \u001b[31m4.6 MB/s\u001b[0m eta \u001b[36m0:00:00\u001b[0m\n",
            "\u001b[?25hInstalling collected packages: PyPDF2\n",
            "Successfully installed PyPDF2-3.0.1\n"
          ]
        }
      ]
    },
    {
      "cell_type": "code",
      "source": [
        "pip install python-docx"
      ],
      "metadata": {
        "colab": {
          "base_uri": "https://localhost:8080/"
        },
        "id": "Xsuv1yXRQ8GA",
        "outputId": "a262e173-a15c-47cf-b01b-b6705c6cae68"
      },
      "execution_count": 3,
      "outputs": [
        {
          "output_type": "stream",
          "name": "stdout",
          "text": [
            "Collecting python-docx\n",
            "  Downloading python_docx-1.1.2-py3-none-any.whl (244 kB)\n",
            "\u001b[?25l     \u001b[90m━━━━━━━━━━━━━━━━━━━━━━━━━━━━━━━━━━━━━━━━\u001b[0m \u001b[32m0.0/244.3 kB\u001b[0m \u001b[31m?\u001b[0m eta \u001b[36m-:--:--\u001b[0m\r\u001b[2K     \u001b[91m━━━━━━━━━━━━━━━━━━━━━━━━━━━━━━━━━━━━━━\u001b[0m\u001b[91m╸\u001b[0m\u001b[90m━\u001b[0m \u001b[32m235.5/244.3 kB\u001b[0m \u001b[31m7.0 MB/s\u001b[0m eta \u001b[36m0:00:01\u001b[0m\r\u001b[2K     \u001b[90m━━━━━━━━━━━━━━━━━━━━━━━━━━━━━━━━━━━━━━━━\u001b[0m \u001b[32m244.3/244.3 kB\u001b[0m \u001b[31m4.8 MB/s\u001b[0m eta \u001b[36m0:00:00\u001b[0m\n",
            "\u001b[?25hRequirement already satisfied: lxml>=3.1.0 in /usr/local/lib/python3.10/dist-packages (from python-docx) (4.9.4)\n",
            "Requirement already satisfied: typing-extensions>=4.9.0 in /usr/local/lib/python3.10/dist-packages (from python-docx) (4.12.2)\n",
            "Installing collected packages: python-docx\n",
            "Successfully installed python-docx-1.1.2\n"
          ]
        }
      ]
    },
    {
      "cell_type": "code",
      "source": [
        "pip install python-pptx"
      ],
      "metadata": {
        "colab": {
          "base_uri": "https://localhost:8080/"
        },
        "id": "YaOm5g0GQ8NL",
        "outputId": "55dfebce-e8be-4c40-9bd4-3294bd2d0699"
      },
      "execution_count": 4,
      "outputs": [
        {
          "output_type": "stream",
          "name": "stdout",
          "text": [
            "Collecting python-pptx\n",
            "  Downloading python_pptx-0.6.23-py3-none-any.whl (471 kB)\n",
            "\u001b[2K     \u001b[90m━━━━━━━━━━━━━━━━━━━━━━━━━━━━━━━━━━━━━━━━\u001b[0m \u001b[32m471.6/471.6 kB\u001b[0m \u001b[31m6.2 MB/s\u001b[0m eta \u001b[36m0:00:00\u001b[0m\n",
            "\u001b[?25hRequirement already satisfied: lxml>=3.1.0 in /usr/local/lib/python3.10/dist-packages (from python-pptx) (4.9.4)\n",
            "Requirement already satisfied: Pillow>=3.3.2 in /usr/local/lib/python3.10/dist-packages (from python-pptx) (9.4.0)\n",
            "Collecting XlsxWriter>=0.5.7 (from python-pptx)\n",
            "  Downloading XlsxWriter-3.2.0-py3-none-any.whl (159 kB)\n",
            "\u001b[2K     \u001b[90m━━━━━━━━━━━━━━━━━━━━━━━━━━━━━━━━━━━━━━━━\u001b[0m \u001b[32m159.9/159.9 kB\u001b[0m \u001b[31m13.5 MB/s\u001b[0m eta \u001b[36m0:00:00\u001b[0m\n",
            "\u001b[?25hInstalling collected packages: XlsxWriter, python-pptx\n",
            "Successfully installed XlsxWriter-3.2.0 python-pptx-0.6.23\n"
          ]
        }
      ]
    },
    {
      "cell_type": "code",
      "source": [
        "pip install fpdf"
      ],
      "metadata": {
        "colab": {
          "base_uri": "https://localhost:8080/"
        },
        "id": "w9zsRKlYQ8Py",
        "outputId": "374e37ca-8c70-4940-cc81-f9a6280b511c"
      },
      "execution_count": 5,
      "outputs": [
        {
          "output_type": "stream",
          "name": "stdout",
          "text": [
            "Collecting fpdf\n",
            "  Downloading fpdf-1.7.2.tar.gz (39 kB)\n",
            "  Preparing metadata (setup.py) ... \u001b[?25l\u001b[?25hdone\n",
            "Building wheels for collected packages: fpdf\n",
            "  Building wheel for fpdf (setup.py) ... \u001b[?25l\u001b[?25hdone\n",
            "  Created wheel for fpdf: filename=fpdf-1.7.2-py2.py3-none-any.whl size=40702 sha256=31a05a99dae36fe2700590b54a5072befebfb91bed08afd35260c0e660e94a96\n",
            "  Stored in directory: /root/.cache/pip/wheels/f9/95/ba/f418094659025eb9611f17cbcaf2334236bf39a0c3453ea455\n",
            "Successfully built fpdf\n",
            "Installing collected packages: fpdf\n",
            "Successfully installed fpdf-1.7.2\n"
          ]
        }
      ]
    },
    {
      "cell_type": "code",
      "source": [
        "pip install Pillow"
      ],
      "metadata": {
        "colab": {
          "base_uri": "https://localhost:8080/"
        },
        "id": "XepS6imdQ8SY",
        "outputId": "6b345c92-a2b1-4833-dfd4-513ca9d62398"
      },
      "execution_count": 6,
      "outputs": [
        {
          "output_type": "stream",
          "name": "stdout",
          "text": [
            "Requirement already satisfied: Pillow in /usr/local/lib/python3.10/dist-packages (9.4.0)\n"
          ]
        }
      ]
    },
    {
      "cell_type": "code",
      "source": [
        "pip install pytesseract"
      ],
      "metadata": {
        "colab": {
          "base_uri": "https://localhost:8080/"
        },
        "id": "DXcgoU8-RDZX",
        "outputId": "cf480feb-cb7b-4288-aa9f-469e7974ae70"
      },
      "execution_count": 7,
      "outputs": [
        {
          "output_type": "stream",
          "name": "stdout",
          "text": [
            "Collecting pytesseract\n",
            "  Downloading pytesseract-0.3.10-py3-none-any.whl (14 kB)\n",
            "Requirement already satisfied: packaging>=21.3 in /usr/local/lib/python3.10/dist-packages (from pytesseract) (24.1)\n",
            "Requirement already satisfied: Pillow>=8.0.0 in /usr/local/lib/python3.10/dist-packages (from pytesseract) (9.4.0)\n",
            "Installing collected packages: pytesseract\n",
            "Successfully installed pytesseract-0.3.10\n"
          ]
        }
      ]
    },
    {
      "cell_type": "code",
      "source": [
        "!apt-get install tesseract-ocr\n"
      ],
      "metadata": {
        "colab": {
          "base_uri": "https://localhost:8080/"
        },
        "id": "t_yMrmtCYAkg",
        "outputId": "3172c0da-1e42-45d6-eafe-ec4e44f0b42e"
      },
      "execution_count": 8,
      "outputs": [
        {
          "output_type": "stream",
          "name": "stdout",
          "text": [
            "Reading package lists... Done\n",
            "Building dependency tree... Done\n",
            "Reading state information... Done\n",
            "The following additional packages will be installed:\n",
            "  tesseract-ocr-eng tesseract-ocr-osd\n",
            "The following NEW packages will be installed:\n",
            "  tesseract-ocr tesseract-ocr-eng tesseract-ocr-osd\n",
            "0 upgraded, 3 newly installed, 0 to remove and 45 not upgraded.\n",
            "Need to get 4,816 kB of archives.\n",
            "After this operation, 15.6 MB of additional disk space will be used.\n",
            "Get:1 http://archive.ubuntu.com/ubuntu jammy/universe amd64 tesseract-ocr-eng all 1:4.00~git30-7274cfa-1.1 [1,591 kB]\n",
            "Get:2 http://archive.ubuntu.com/ubuntu jammy/universe amd64 tesseract-ocr-osd all 1:4.00~git30-7274cfa-1.1 [2,990 kB]\n",
            "Get:3 http://archive.ubuntu.com/ubuntu jammy/universe amd64 tesseract-ocr amd64 4.1.1-2.1build1 [236 kB]\n",
            "Fetched 4,816 kB in 3s (1,766 kB/s)\n",
            "Selecting previously unselected package tesseract-ocr-eng.\n",
            "(Reading database ... 121925 files and directories currently installed.)\n",
            "Preparing to unpack .../tesseract-ocr-eng_1%3a4.00~git30-7274cfa-1.1_all.deb ...\n",
            "Unpacking tesseract-ocr-eng (1:4.00~git30-7274cfa-1.1) ...\n",
            "Selecting previously unselected package tesseract-ocr-osd.\n",
            "Preparing to unpack .../tesseract-ocr-osd_1%3a4.00~git30-7274cfa-1.1_all.deb ...\n",
            "Unpacking tesseract-ocr-osd (1:4.00~git30-7274cfa-1.1) ...\n",
            "Selecting previously unselected package tesseract-ocr.\n",
            "Preparing to unpack .../tesseract-ocr_4.1.1-2.1build1_amd64.deb ...\n",
            "Unpacking tesseract-ocr (4.1.1-2.1build1) ...\n",
            "Setting up tesseract-ocr-eng (1:4.00~git30-7274cfa-1.1) ...\n",
            "Setting up tesseract-ocr-osd (1:4.00~git30-7274cfa-1.1) ...\n",
            "Setting up tesseract-ocr (4.1.1-2.1build1) ...\n",
            "Processing triggers for man-db (2.10.2-1) ...\n"
          ]
        }
      ]
    },
    {
      "cell_type": "code",
      "source": [
        "!pip install pytesseract\n"
      ],
      "metadata": {
        "colab": {
          "base_uri": "https://localhost:8080/"
        },
        "id": "hT2xwdiaYAr3",
        "outputId": "92ce1e7c-826b-442d-c0e8-4331f93ab168"
      },
      "execution_count": 9,
      "outputs": [
        {
          "output_type": "stream",
          "name": "stdout",
          "text": [
            "Requirement already satisfied: pytesseract in /usr/local/lib/python3.10/dist-packages (0.3.10)\n",
            "Requirement already satisfied: packaging>=21.3 in /usr/local/lib/python3.10/dist-packages (from pytesseract) (24.1)\n",
            "Requirement already satisfied: Pillow>=8.0.0 in /usr/local/lib/python3.10/dist-packages (from pytesseract) (9.4.0)\n"
          ]
        }
      ]
    },
    {
      "cell_type": "code",
      "source": [
        "!pip install odfpy"
      ],
      "metadata": {
        "colab": {
          "base_uri": "https://localhost:8080/"
        },
        "id": "IW0u_cr3jXfZ",
        "outputId": "b02fccbc-6557-4e94-e3ef-f1529e64e5dc"
      },
      "execution_count": 12,
      "outputs": [
        {
          "output_type": "stream",
          "name": "stdout",
          "text": [
            "Collecting odfpy\n",
            "  Downloading odfpy-1.4.1.tar.gz (717 kB)\n",
            "\u001b[2K     \u001b[90m━━━━━━━━━━━━━━━━━━━━━━━━━━━━━━━━━━━━━━━━\u001b[0m \u001b[32m717.0/717.0 kB\u001b[0m \u001b[31m9.7 MB/s\u001b[0m eta \u001b[36m0:00:00\u001b[0m\n",
            "\u001b[?25h  Preparing metadata (setup.py) ... \u001b[?25l\u001b[?25hdone\n",
            "Requirement already satisfied: defusedxml in /usr/local/lib/python3.10/dist-packages (from odfpy) (0.7.1)\n",
            "Building wheels for collected packages: odfpy\n",
            "  Building wheel for odfpy (setup.py) ... \u001b[?25l\u001b[?25hdone\n",
            "  Created wheel for odfpy: filename=odfpy-1.4.1-py2.py3-none-any.whl size=160672 sha256=7dabf7059432d05c4b6b25c9c50ca1b0798913fe83ca44666c78dc5e53f09e68\n",
            "  Stored in directory: /root/.cache/pip/wheels/c8/2e/95/90d94fe33903786937f3b8c33dd88807f792359c6424b40469\n",
            "Successfully built odfpy\n",
            "Installing collected packages: odfpy\n",
            "Successfully installed odfpy-1.4.1\n"
          ]
        }
      ]
    },
    {
      "cell_type": "code",
      "execution_count": 16,
      "metadata": {
        "colab": {
          "base_uri": "https://localhost:8080/"
        },
        "id": "sJVjdrnLQNAW",
        "outputId": "cf6d4819-10c3-4532-d401-d25c88e5e550"
      },
      "outputs": [
        {
          "output_type": "stream",
          "name": "stdout",
          "text": [
            "Mounted at /content/drive\n",
            "Processing file: /content/drive/MyDrive/odt test corpus/Muscle_Gain_and_Fat_Loss_Plan.odt\n",
            "Processing file: /content/drive/MyDrive/odt test corpus/ROCK data architecture (2).odt\n",
            "Length of corpus: 36739\n",
            "Consolidated corpus saved at /content/drive/MyDrive/odt test corpus/full_corpus.txt\n"
          ]
        }
      ],
      "source": [
        "# Mount Google Drive\n",
        "from google.colab import drive\n",
        "drive.mount('/content/drive', force_remount=True)\n",
        "\n",
        "import os\n",
        "import glob\n",
        "import pandas as pd\n",
        "from PyPDF2 import PdfReader\n",
        "from docx import Document\n",
        "from pptx import Presentation\n",
        "from PIL import Image\n",
        "import pytesseract\n",
        "import json\n",
        "from odf.opendocument import load\n",
        "from odf.text import P\n",
        "\n",
        "# Use the correct local path to your folder in Google Drive\n",
        "folder_path = '/content/drive/MyDrive/odt test corpus'\n",
        "\n",
        "# Ensure the directory exists\n",
        "os.makedirs(folder_path, exist_ok=True)\n",
        "\n",
        "# List all files in the folder\n",
        "files = glob.glob(os.path.join(folder_path, '**'), recursive=True)\n",
        "\n",
        "# Initialize a variable to store concatenated content\n",
        "corpus = \"\"\n",
        "\n",
        "# Function to add a delimiter and metadata\n",
        "def add_delimiter(filename):\n",
        "    return f\"\\n\\n---\\nFILE: {filename}\\n---\\n\\n\"\n",
        "\n",
        "# Define processing functions for each file type\n",
        "def process_pdf(file, corpus):\n",
        "    reader = PdfReader(file)\n",
        "    for page in reader.pages:\n",
        "        corpus += page.extract_text() + \"\\n\"\n",
        "    return corpus\n",
        "\n",
        "def process_csv(file, corpus):\n",
        "    df = pd.read_csv(file)\n",
        "    corpus += df.to_string() + \"\\n\"\n",
        "    return corpus\n",
        "\n",
        "def process_parquet(file, corpus):\n",
        "    df = pd.read_parquet(file)\n",
        "    corpus += df.to_string() + \"\\n\"\n",
        "    return corpus\n",
        "\n",
        "def process_docx(file, corpus):\n",
        "    doc = Document(file)\n",
        "    for para in doc.paragraphs:\n",
        "        corpus += para.text + \"\\n\"\n",
        "    return corpus\n",
        "\n",
        "def process_odt(file, corpus):\n",
        "    doc = load(file)\n",
        "    for paragraph in doc.getElementsByType(P):\n",
        "        corpus += str(paragraph) + \"\\n\"\n",
        "    return corpus\n",
        "\n",
        "def process_pptx(file, corpus):\n",
        "    prs = Presentation(file)\n",
        "    for slide in prs.slides:\n",
        "        for shape in slide.shapes:\n",
        "            if hasattr(shape, \"text\"):\n",
        "                corpus += shape.text + \"\\n\"\n",
        "    return corpus\n",
        "\n",
        "def process_image(file, corpus):\n",
        "    text = pytesseract.image_to_string(Image.open(file))\n",
        "    corpus += text + \"\\n\"\n",
        "    return corpus\n",
        "\n",
        "def process_code(file, corpus):\n",
        "    with open(file, 'r') as f:\n",
        "        corpus += f.read() + \"\\n\"\n",
        "    return corpus\n",
        "\n",
        "def process_ipynb(file, corpus):\n",
        "    with open(file, 'r') as f:\n",
        "        notebook = json.load(f)\n",
        "        for cell in notebook['cells']:\n",
        "            if cell['cell_type'] == 'markdown':\n",
        "                corpus += ''.join(cell['source']) + \"\\n\"\n",
        "            elif cell['cell_type'] == 'code':\n",
        "                corpus += ''.join(cell['source']) + \"\\n\"\n",
        "    return corpus\n",
        "\n",
        "# Function to process files based on their extension\n",
        "def process_files(files, extension, processing_function, corpus):\n",
        "    matching_files = [f for f in files if f.endswith(extension)]\n",
        "    if matching_files:\n",
        "        for file in matching_files:\n",
        "            print(f\"Processing file: {file}\")  # Debug print\n",
        "            corpus += add_delimiter(file)\n",
        "            corpus = processing_function(file, corpus)\n",
        "    return corpus\n",
        "\n",
        "# Process each type of file if present in the folder\n",
        "corpus = process_files(files, '.pdf', process_pdf, corpus)\n",
        "corpus = process_files(files, '.csv', process_csv, corpus)\n",
        "corpus = process_files(files, '.parquet', process_parquet, corpus)\n",
        "corpus = process_files(files, '.docx', process_docx, corpus)\n",
        "corpus = process_files(files, '.odt', process_odt, corpus)\n",
        "corpus = process_files(files, '.pptx', process_pptx, corpus)\n",
        "corpus = process_files(files, ('.png', '.jpg', '.jpeg'), process_image, corpus)  # Handle multiple image extensions\n",
        "corpus = process_files(files, ('.py', '.js', '.html', '.css'), process_code, corpus)  # Handle multiple code file extensions\n",
        "corpus = process_files(files, '.ipynb', process_ipynb, corpus)\n",
        "\n",
        "# Placeholder for video file handling\n",
        "video_files = [f for f in files if f.endswith(('.mp4', '.avi', '.mkv'))]\n",
        "for file in video_files:\n",
        "    print(f\"Processing video file: {file}\")  # Debug print\n",
        "    corpus += add_delimiter(file)\n",
        "    corpus += f\"Video file: {file}\\n\"\n",
        "\n",
        "# Check the length of the corpus to ensure it has content\n",
        "print(f\"Length of corpus: {len(corpus)}\")  # Debug print\n",
        "\n",
        "# Save the consolidated corpus into a text file\n",
        "corpus_path = os.path.join(folder_path, 'full_corpus.txt')\n",
        "with open(corpus_path, 'w') as f:\n",
        "    f.write(corpus)\n",
        "\n",
        "print(f'Consolidated corpus saved at {corpus_path}')"
      ]
    },
    {
      "cell_type": "markdown",
      "source": [
        "This code mounts your Google Drive in Google Colab and reads files from a specified folder. It processes different types of files, such as PDFs, CSVs, DOCX, PPTX, images (using OCR), code files, and Jupyter Notebooks. For each file, it extracts the text content and adds it to a consolidated text file. The script handles each file type separately and only processes the files that are present in the folder. Finally, it saves all the collected text into a single text file in the same folder on Google Drive."
      ],
      "metadata": {
        "id": "AuxO1Ua4YwAj"
      }
    },
    {
      "cell_type": "code",
      "source": [],
      "metadata": {
        "id": "mvn2r4WvQqWN"
      },
      "execution_count": null,
      "outputs": []
    }
  ]
}